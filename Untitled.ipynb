{
 "cells": [
  {
   "cell_type": "code",
   "execution_count": null,
   "id": "9bf5ac01-b81f-43bb-a424-5c618ad75f38",
   "metadata": {},
   "outputs": [],
   "source": [
    "import sys, os, platform, tensorflow as tf\n",
    "print(\"Python:\", platform.python_version())\n",
    "print(\"Executable:\", sys.executable)\n",
    "print(\"Conda prefix:\", os.environ.get(\"CONDA_PREFIX\"))\n",
    "print(\"TF:\", tf.__version__)"
   ]
  },
  {
   "cell_type": "code",
   "execution_count": null,
   "id": "42fa975b-2347-4d50-95c7-278375e11d33",
   "metadata": {},
   "outputs": [],
   "source": []
  }
 ],
 "metadata": {
  "kernelspec": {
   "display_name": "Python (vanilla_cnn)",
   "language": "python",
   "name": "vanilla_cnn"
  },
  "language_info": {
   "codemirror_mode": {
    "name": "ipython",
    "version": 3
   },
   "file_extension": ".py",
   "mimetype": "text/x-python",
   "name": "python",
   "nbconvert_exporter": "python",
   "pygments_lexer": "ipython3",
   "version": "3.10.18"
  }
 },
 "nbformat": 4,
 "nbformat_minor": 5
}
