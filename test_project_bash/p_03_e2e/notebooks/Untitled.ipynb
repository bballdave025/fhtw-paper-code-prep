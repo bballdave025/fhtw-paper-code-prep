{
 "cells": [
  {
   "cell_type": "code",
   "execution_count": null,
   "id": "696c4e61-c257-4978-9754-0f9ebb1d21f2",
   "metadata": {},
   "outputs": [],
   "source": []
  }
 ],
 "metadata": {
  "kernelspec": {
   "display_name": "Python (vanilla_cnn)",
   "language": "python",
   "name": "vanilla_cnn"
  },
  "language_info": {
   "codemirror_mode": {
    "name": "ipython",
    "version": 3
   },
   "file_extension": ".py",
   "mimetype": "text/x-python",
   "name": "python",
   "nbconvert_exporter": "python",
   "pygments_lexer": "ipython3",
   "version": "3.10.18"
  }
 },
 "nbformat": 4,
 "nbformat_minor": 5
}
