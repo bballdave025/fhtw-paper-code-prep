{
 "cells": [
  {
   "cell_type": "code",
   "execution_count": null,
   "metadata": {},
   "outputs": [],
   "source": [
    "import os, random, numpy as np, tensorflow as tf\n",
    "os.environ[\"PYTHONHASHSEED\"]=\"137\";\n",
    "random.seed(137);\n",
    "np.random.seed(137);\n",
    "tf.random.set_seed(137)\n"
   ]
  }
 ],
 "metadata": {
  "kernelspec": {
   "display_name": "Python 3 (ipykernel)",
   "language": "python",
   "name": "python3"
  },
  "language_info": {
   "name": "python",
   "version": "3.10"
  }
 },
 "nbformat": 4,
 "nbformat_minor": 5
}